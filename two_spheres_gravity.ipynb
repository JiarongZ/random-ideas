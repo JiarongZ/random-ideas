{
 "cells": [
  {
   "cell_type": "markdown",
   "metadata": {},
   "source": [
    "Andrei and I have different ideas about the gravity between two balls(or spheres) that are seperated at some distance(>R1+R2). So I write this piece of code and I want to verify that this situation is equivalent to putting two point mass at each center. \n",
    "\n",
    "Before coding I would like to explain my argument. Suppose we have two spheres 1 and 2, from the perspective of every mass element on shpere2, the total gravity this element feels from sphere 1 equals to the gravity when putting all the mass of sphere1 at its center, which therom is proved by calculus. So every element on sphere2 will find no difference if you replace sphere1 with a point mass with mass=mass1. Now you have point mass 1 and sphere 2, for the same argument, point mass 1 will find no difference if you replace sphere 2 with point mass 2. Done."
   ]
  },
  {
   "cell_type": "code",
   "execution_count": 81,
   "metadata": {},
   "outputs": [],
   "source": [
    "import numpy as np\n",
    "from numpy import sin,cos,pi\n",
    "import matplotlib.pyplot as plt"
   ]
  },
  {
   "cell_type": "code",
   "execution_count": 93,
   "metadata": {},
   "outputs": [
    {
     "name": "stdout",
     "output_type": "stream",
     "text": [
      "2.4674011002723395 2.2736075055283886\n",
      "7.854158560704253\n"
     ]
    }
   ],
   "source": [
    "N1 = 20 # number of grid points in theta\n",
    "N2 = 20 # number of grid points in phi\n",
    "dt = pi/N1\n",
    "dp = 2*pi/N2\n",
    "theta1 = np.linspace(0,pi,num=N1,endpoint=True)\n",
    "theta2 = np.linspace(0,pi,num=N1,endpoint=True)\n",
    "phi1 = np.linspace(0,2*pi,num=N2,endpoint=True)\n",
    "phi2 = np.linspace(0,2*pi,num=N2,endpoint=True)\n",
    "\n",
    "#two spheres\n",
    "x0,y0,z0 = 8,0,0\n",
    "RR0 = x0**2 + y0**2 + z0**2\n",
    "R1 = 3\n",
    "R2 = 2.5\n",
    "\n",
    "integral = np.zeros(3)\n",
    "\n",
    "for t1 in theta1:\n",
    "    for t2 in theta2:\n",
    "        for p1 in phi1:\n",
    "            for p2 in phi2:\n",
    "                \n",
    "                x1 = R1*sin(t1)*cos(p1)\n",
    "                y1 = R1*sin(t1)*sin(p1)\n",
    "                z1 = R1*cos(t1)\n",
    "                \n",
    "                x2 = R2*sin(t2)*cos(p2)+x0\n",
    "                y2 = R2*sin(t2)*sin(p2)+y0\n",
    "                z2 = R2*cos(t2) + z0\n",
    "                \n",
    "                RR = (x1-x2)**2 + (y1-y2)**2 + (z1-z2)**2\n",
    "                \n",
    "                r_vector = np.array([x2-x1,y2-y1,z2-z1])\n",
    "                r_unit_vector = r_vector/np.linalg.norm(r_vector)\n",
    "                \n",
    "                integral = integral + r_unit_vector * sin(t1)*sin(t2)*dt*dt*dp*dp/RR \n",
    "\n",
    "f = 16*pi**2/RR0\n",
    "f_integral = np.linalg.norm(integral)\n",
    "                \n",
    "#print(integral)\n",
    "print(f,f_integral)\n",
    "print(100*(f-f_integral)/f)"
   ]
  },
  {
   "cell_type": "markdown",
   "metadata": {},
   "source": [
    "If there will be any discrepancy, it will show up when R,R1,R2 are comparable. So here I make R1=3, R2=2.5, R=8. With 20*20 grid points, the error is~8%. This error could be due to the fact that dt,dp are not as small as we need. To support my arguement, error analysis is needed, which is performed following the 1+1 calculation."
   ]
  },
  {
   "cell_type": "code",
   "execution_count": 94,
   "metadata": {},
   "outputs": [
    {
     "name": "stdout",
     "output_type": "stream",
     "text": [
      "0.19634954084936207 0.19453838232547924\n",
      "0.9224154617567152\n"
     ]
    }
   ],
   "source": [
    "#1 sphere + 1 point mass:\n",
    "N1 = 20 # number of grid points in theta\n",
    "N2 = 20 # number of grid points in phi\n",
    "dt = pi/N1\n",
    "dp = 2*pi/N2\n",
    "theta1 = np.linspace(0,pi,num=N1,endpoint=True)\n",
    "phi1 = np.linspace(0,2*pi,num=N2,endpoint=True)\n",
    "\n",
    "x2,y2,z2 = 8,0,0\n",
    "RR0 = x2**2 + y2**2 + z2**2\n",
    "R1 = 3\n",
    "\n",
    "\n",
    "integral = np.zeros(3)\n",
    "\n",
    "for t1 in theta1:\n",
    "    for p1 in phi1:\n",
    "                \n",
    "        x1 = R1*sin(t1)*cos(p1)\n",
    "        y1 = R1*sin(t1)*sin(p1)\n",
    "        z1 = R1*cos(t1)\n",
    "        r_vector = np.array([x2-x1,y2-y1,z2-z1])        \n",
    "        r12 = np.linalg.norm(r_vector)\n",
    "                \n",
    "        integral = integral + r_vector * sin(t1)*dt*dp/r12**3 \n",
    "\n",
    "f = 4*pi/RR0\n",
    "f_integral = np.linalg.norm(integral)\n",
    "                \n",
    "print(f,f_integral)\n",
    "print(100*(f-f_integral)/f)"
   ]
  },
  {
   "cell_type": "markdown",
   "metadata": {},
   "source": [
    "I collected some error data. With that I did a simple error-analysis below for both cases at R0 = 8, I find that the error behavior with respect to #of grid points is logarithmic in both cases. So I claim that I am right, as long as I set up more grid points when doing integral, the error in 2-sphere case will converge to the analytical value, meaning the gravity between two spheres equals the gravity if you concentrate the mass of both spheres to their centers."
   ]
  },
  {
   "cell_type": "code",
   "execution_count": 95,
   "metadata": {},
   "outputs": [
    {
     "data": {
      "image/png": "[encoded data removed]",
      "text/plain": [
       "<Figure size 432x288 with 1 Axes>"
      ]
     },
     "metadata": {
      "needs_background": "light"
     },
     "output_type": "display_data"
    },
    {
     "data": {
      "image/png": "[encoded data removed]",
      "text/plain": [
       "<Figure size 432x288 with 1 Axes>"
      ]
     },
     "metadata": {
      "needs_background": "light"
     },
     "output_type": "display_data"
    }
   ],
   "source": [
    "# 1+1, i.e. 1 sphere + 1 point mass\n",
    "x0 = np.array([10,20,50,100])\n",
    "y0 = np.array([2.4,1,0.27,0.1])\n",
    "x1 = x0**2\n",
    "x2 = np.log(x0**2)\n",
    "\n",
    "y1 = y0\n",
    "y2 = np.log(y0)\n",
    "\n",
    "plt.figure()\n",
    "plt.title('R=8, 1sphere+1point mass')\n",
    "plt.plot(x2,y2,label='log')\n",
    "plt.legend()\n",
    "plt.show()\n",
    "\n",
    "#two spheres\n",
    "x3 = np.log(np.array([10,15,20,50])**4)\n",
    "y3 = np.log(np.array([16,10.7,7.8,3]))\n",
    "\n",
    "plt.figure()\n",
    "plt.title('R=8,2sphere')\n",
    "plt.plot(x3,y3,label='log')\n",
    "plt.legend()\n",
    "plt.show()"
   ]
  },
  {
   "cell_type": "code",
   "execution_count": null,
   "metadata": {},
   "outputs": [],
   "source": []
  }
 ],
 "metadata": {
  "kernelspec": {
   "display_name": "Python 3",
   "language": "python",
   "name": "python3"
  },
  "language_info": {
   "codemirror_mode": {
    "name": "ipython",
    "version": 3
   },
   "file_extension": ".py",
   "mimetype": "text/x-python",
   "name": "python",
   "nbconvert_exporter": "python",
   "pygments_lexer": "ipython3",
   "version": "3.7.6"
  }
 },
 "nbformat": 4,
 "nbformat_minor": 4
}
